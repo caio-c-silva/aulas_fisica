{
 "cells": [
  {
   "cell_type": "markdown",
   "metadata": {
    "id": "KlXyuUzCWUps"
   },
   "source": [
    "## Notebook Utilizado para Analisar Dados Experimentais do Laboratório de Física\n",
    "\n",
    "\n",
    "\n",
    "[![Open In Colab](https://colab.research.google.com/assets/colab-badge.svg)](https://colab.research.google.com/github/caio-c-silva/introducao_programacao/blob/main/notebooks_aulas/.ipynb_checkpoints/Condicionais%20pt1-checkpoint.ipynb)\n"
   ]
  },
  {
   "cell_type": "markdown",
   "metadata": {
    "id": "7fMicAmFWlhK"
   },
   "source": [
    "### Importar Bibliotecas"
   ]
  },
  {
   "cell_type": "code",
   "execution_count": null,
   "metadata": {
    "id": "KJHGkDV3WNJD"
   },
   "outputs": [],
   "source": [
    "%matplotlib inline\n",
    "import numpy as np\n",
    "import pandas as pd\n",
    "import matplotlib.pyplot as plt\n",
    "import scipy.optimize as optimization\n",
    "import scipy.odr as odr"
   ]
  },
  {
   "cell_type": "markdown",
   "metadata": {
    "id": "Ol6OeiqqXnMi"
   },
   "source": [
    "### Inserir Dados"
   ]
  },
  {
   "cell_type": "markdown",
   "metadata": {
    "id": "jp5-PwDCg9GJ"
   },
   "source": [
    "#### Pêndulo"
   ]
  },
  {
   "cell_type": "code",
   "execution_count": null,
   "metadata": {
    "id": "_-YLXuRZer-D"
   },
   "outputs": [],
   "source": [
    "l_medido = [0.1, 0.2, 0.4, 0.6] # Inserir os valores de l medidos aqui (metros)\n",
    "tau_medido_10 = [6.30, 9.02, 12.64, 15.70] # inserir os valores de 10 tau medidos aqui\n",
    "erro_l_experimental = [0.001] # inserir o erro experimental de l aqui (metros)\n",
    "erro_tau_experimental = [0.2] # inserir o erro experimental de tau aqui\n"
   ]
  },
  {
   "cell_type": "code",
   "execution_count": null,
   "metadata": {
    "colab": {
     "base_uri": "https://localhost:8080/",
     "height": 174
    },
    "id": "igwJ7tYhf24N",
    "outputId": "1bc7f078-8de0-4d3c-9377-46ec873f2afa"
   },
   "outputs": [],
   "source": [
    "dict_lists = {\"l\":l_medido,\n",
    "              \"tau_10\":tau_medido_10,\n",
    "              \"erro_l_experimental\":len(l_medido)* erro_l_experimental,\n",
    "              \"erro_tau_experimental\":len(l_medido)*erro_tau_experimental}\n",
    "dados_pendulo = pd.DataFrame(dict_lists)\n",
    "dados_pendulo"
   ]
  },
  {
   "cell_type": "markdown",
   "metadata": {
    "id": "N_qk-jn0hEOn"
   },
   "source": [
    "#### Massa-mola"
   ]
  },
  {
   "cell_type": "code",
   "execution_count": null,
   "metadata": {
    "id": "ZUIzzcDAhDvs"
   },
   "outputs": [],
   "source": [
    "m_medido = [0.1, 0.2, 0.4, 0.6] # Inserir os valores de m medidos aqui (kg)\n",
    "tau_medido_10 = [6.30, 9.02, 12.64, 15.70] # inserir os valores de 10 tau medidos aqui\n",
    "erro_m_experimental = [0.001] # inserir o erro experimental de m aqui (kg)\n",
    "erro_tau_experimental = [0.2] # inserir o erro experimental de tau aqui"
   ]
  },
  {
   "cell_type": "code",
   "execution_count": null,
   "metadata": {
    "colab": {
     "base_uri": "https://localhost:8080/",
     "height": 174
    },
    "id": "_PqVLfnNhPCm",
    "outputId": "19a21f12-b031-4a5f-a0a7-eb99fb88fb07"
   },
   "outputs": [],
   "source": [
    "dict_lists = {\"m\":l_medido,\n",
    "              \"tau_10\":tau_medido_10,\n",
    "              \"erro_m_experimental\":len(l_medido)* erro_l_experimental,\n",
    "              \"erro_tau_experimental\":len(l_medido)*erro_tau_experimental}\n",
    "dados_massa_mola = pd.DataFrame(dict_lists)\n",
    "dados_massa_mola"
   ]
  },
  {
   "cell_type": "markdown",
   "metadata": {
    "id": "3_PuNuJBihbV"
   },
   "source": [
    "# Análise: Pêndulo"
   ]
  },
  {
   "cell_type": "markdown",
   "metadata": {
    "id": "MjlTOHMOX2Iz"
   },
   "source": [
    "### Criar Gráfico de $\\tau \\times l$"
   ]
  },
  {
   "cell_type": "code",
   "execution_count": null,
   "metadata": {
    "id": "Wi1YpJfOYNQr"
   },
   "outputs": [],
   "source": [
    "X = dados_pendulo['l']\n",
    "Y = dados_pendulo['tau_10'] / 10\n",
    "erro_x = dados_pendulo['erro_l_experimental']\n",
    "erro_y = dados_pendulo['erro_tau_experimental'] / 10"
   ]
  },
  {
   "cell_type": "code",
   "execution_count": null,
   "metadata": {
    "colab": {
     "base_uri": "https://localhost:8080/",
     "height": 451
    },
    "id": "k5kn-mNYYDMt",
    "outputId": "7650e028-155f-4b7b-f6a5-13e7f0a2249b"
   },
   "outputs": [],
   "source": [
    "ax = plt.figure(1)\n",
    "ax = plt.errorbar(X, Y, xerr=erro_x, yerr=erro_y, linestyle='None', marker='.',color='black')\n",
    "ax = plt.xlabel('$l (m)$')\n",
    "ax = plt.ylabel('$\\\\tau (s)$')\n",
    "ax = plt.grid()\n",
    "ax = plt.savefig('grafico_tau_x_l.png',dpi=150,bbox_inches = \"tight\")"
   ]
  },
  {
   "cell_type": "markdown",
   "metadata": {
    "id": "woo48C0zZCxB"
   },
   "source": [
    "### Linearização: Gráfico de $\\tau^2 \\times l$"
   ]
  },
  {
   "cell_type": "code",
   "execution_count": null,
   "metadata": {
    "id": "-1hb6vrBYIyX"
   },
   "outputs": [],
   "source": [
    "X = dados_pendulo['l']\n",
    "Y = (dados_pendulo['tau_10'] / 10)**2\n",
    "erro_x = dados_pendulo['erro_l_experimental']\n",
    "erro_y = dados_pendulo['erro_tau_experimental'] / 10"
   ]
  },
  {
   "cell_type": "code",
   "execution_count": null,
   "metadata": {
    "colab": {
     "base_uri": "https://localhost:8080/",
     "height": 451
    },
    "id": "p7DYwz6OZtlk",
    "outputId": "87e3fce7-3159-4c26-d026-bddf1105315d"
   },
   "outputs": [],
   "source": [
    "ax = plt.figure(1)\n",
    "ax = plt.errorbar(X, Y, xerr=erro_x, yerr=erro_y, linestyle='None', marker='.',color='black')\n",
    "ax = plt.xlabel('$l (m)$')\n",
    "ax = plt.ylabel('$\\\\tau^2 (s^2)$')\n",
    "ax = plt.grid()\n",
    "ax = plt.savefig('grafico_tau_2_x_l.png',dpi=150,bbox_inches = \"tight\")"
   ]
  },
  {
   "cell_type": "markdown",
   "metadata": {
    "id": "L0ksK9A6aaz1"
   },
   "source": [
    "### Criar Modelo de Regressão"
   ]
  },
  {
   "cell_type": "code",
   "execution_count": null,
   "metadata": {
    "id": "xfqPQDf5Z1t5"
   },
   "outputs": [],
   "source": [
    "def f(p,x):\n",
    "  return p[0]*x + p[1]"
   ]
  },
  {
   "cell_type": "code",
   "execution_count": null,
   "metadata": {
    "colab": {
     "base_uri": "https://localhost:8080/"
    },
    "id": "l_7njDUEamuL",
    "outputId": "99129c8d-237c-4190-92a1-f81cb42a9d89"
   },
   "outputs": [],
   "source": [
    "model_object = odr.Model(f)\n",
    "\n",
    "data_object = odr.RealData(X,Y,sx=erro_x, sy=erro_y)\n",
    "odr_ = odr.ODR(data_object, model_object, beta0=[1,0])\n",
    "odr_.set_job(fit_type=0)\n",
    "out = odr_.run()\n",
    "out.pprint()"
   ]
  },
  {
   "cell_type": "code",
   "execution_count": null,
   "metadata": {
    "id": "yAYi4mOcbWrg"
   },
   "outputs": [],
   "source": [
    "y_i = f([out.beta[0], out.beta[1]],X)"
   ]
  },
  {
   "cell_type": "code",
   "execution_count": null,
   "metadata": {
    "colab": {
     "base_uri": "https://localhost:8080/",
     "height": 451
    },
    "id": "-xzQJjiIcBhG",
    "outputId": "19030e41-f038-43fb-e3d6-d9aa16142799"
   },
   "outputs": [],
   "source": [
    "ax = plt.figure(1)\n",
    "ax = plt.errorbar(X, Y, xerr=erro_x, yerr=erro_y, linestyle='None', marker='.',color='black')\n",
    "ax = plt.plot(X, y_i, label='model',color='red')\n",
    "ax = plt.xlabel('$l (m)$')\n",
    "ax = plt.ylabel('$\\\\tau^2 (s^2)$')\n",
    "ax = plt.grid()\n",
    "ax = plt.savefig('regressão_linear_pendulo.png',dpi=150,bbox_inches = \"tight\")"
   ]
  },
  {
   "cell_type": "markdown",
   "metadata": {
    "id": "a3gC5lbtcinK"
   },
   "source": [
    "### Encontrando a Constante Gravitacional $g$"
   ]
  },
  {
   "cell_type": "code",
   "execution_count": null,
   "metadata": {
    "colab": {
     "base_uri": "https://localhost:8080/"
    },
    "id": "E77UwYB-cUPf",
    "outputId": "9cd843fe-af70-4ec0-a64a-832f30e1f6c4"
   },
   "outputs": [],
   "source": [
    "g = (4*np.pi**2)/out.beta[0]\n",
    "g"
   ]
  },
  {
   "cell_type": "markdown",
   "metadata": {
    "id": "pCwgH56CcuIO"
   },
   "source": [
    "### Encontrando o Erro de $g$"
   ]
  },
  {
   "cell_type": "code",
   "execution_count": null,
   "metadata": {
    "colab": {
     "base_uri": "https://localhost:8080/"
    },
    "id": "TD91e96XcrnQ",
    "outputId": "26960a0b-5662-4cd4-ea8e-85f2280dc697"
   },
   "outputs": [],
   "source": [
    "g_erro = (out.sd_beta[0]/out.beta[0])*g\n",
    "g_erro"
   ]
  },
  {
   "cell_type": "markdown",
   "metadata": {
    "id": "X1cyrWn8kGGY"
   },
   "source": [
    "# Análise: Massa-Mola"
   ]
  },
  {
   "cell_type": "markdown",
   "metadata": {
    "id": "1qCRPzCUkfnO"
   },
   "source": [
    "### Criar Gráfico de $\\tau \\times m$"
   ]
  },
  {
   "cell_type": "code",
   "execution_count": null,
   "metadata": {
    "id": "9ixeyQVpkfnO"
   },
   "outputs": [],
   "source": [
    "X = dados_massa_mola['m']\n",
    "Y = dados_massa_mola['tau_10'] / 10\n",
    "erro_x = dados_massa_mola['erro_m_experimental']\n",
    "erro_y = dados_massa_mola['erro_tau_experimental'] / 10"
   ]
  },
  {
   "cell_type": "code",
   "execution_count": null,
   "metadata": {
    "colab": {
     "base_uri": "https://localhost:8080/",
     "height": 453
    },
    "id": "SDYAs2HWkfnP",
    "outputId": "a3071a22-a953-4109-81e7-e5219a814dc9"
   },
   "outputs": [],
   "source": [
    "ax = plt.figure(1)\n",
    "ax = plt.errorbar(X, Y, xerr=erro_x, yerr=erro_y, linestyle='None', marker='.',color='black')\n",
    "ax = plt.xlabel('$m (kg)$')\n",
    "ax = plt.ylabel('$\\\\tau (s)$')\n",
    "ax = plt.grid()\n",
    "ax = plt.savefig('grafico_tau_x_m.png',dpi=150,bbox_inches = \"tight\")"
   ]
  },
  {
   "cell_type": "markdown",
   "metadata": {
    "id": "i_QmajzdkfnP"
   },
   "source": [
    "### Linearização: Gráfico de $\\tau^2 \\times m$"
   ]
  },
  {
   "cell_type": "code",
   "execution_count": null,
   "metadata": {
    "id": "kRvqThqykfnS"
   },
   "outputs": [],
   "source": [
    "X = dados_massa_mola['m']\n",
    "Y = (dados_massa_mola['tau_10'] / 10)**2\n",
    "erro_x = dados_massa_mola['erro_m_experimental']\n",
    "erro_y = dados_massa_mola['erro_tau_experimental'] / 10"
   ]
  },
  {
   "cell_type": "code",
   "execution_count": null,
   "metadata": {
    "colab": {
     "base_uri": "https://localhost:8080/",
     "height": 453
    },
    "id": "R-LA7E9PkfnS",
    "outputId": "6d9dbff2-5ef7-405b-f17c-544ebf9678f8"
   },
   "outputs": [],
   "source": [
    "ax = plt.figure(1)\n",
    "ax = plt.errorbar(X, Y, xerr=erro_x, yerr=erro_y, linestyle='None', marker='.',color='black')\n",
    "ax = plt.xlabel('$m (kg)$')\n",
    "ax = plt.ylabel('$\\\\tau^2 (s^2)$')\n",
    "ax = plt.grid()\n",
    "ax = plt.savefig('grafico_tau_2_x_m.png',dpi=150,bbox_inches = \"tight\")"
   ]
  },
  {
   "cell_type": "markdown",
   "metadata": {
    "id": "9-e-SU7ikfnT"
   },
   "source": [
    "### Criar Modelo de Regressão"
   ]
  },
  {
   "cell_type": "code",
   "execution_count": null,
   "metadata": {
    "id": "9aKHj5E8kfnT"
   },
   "outputs": [],
   "source": [
    "def f(p,x):\n",
    "  return p[0]*x + p[1]"
   ]
  },
  {
   "cell_type": "code",
   "execution_count": null,
   "metadata": {
    "colab": {
     "base_uri": "https://localhost:8080/"
    },
    "id": "2w_G9tWikfnU",
    "outputId": "f25fe8d6-904d-4157-a14d-a1b2e680a4ab"
   },
   "outputs": [],
   "source": [
    "model_object = odr.Model(f)\n",
    "\n",
    "data_object = odr.RealData(X,Y,sx=erro_x, sy=erro_y)\n",
    "odr_ = odr.ODR(data_object, model_object, beta0=[1,0])\n",
    "odr_.set_job(fit_type=0)\n",
    "out = odr_.run()\n",
    "out.pprint()"
   ]
  },
  {
   "cell_type": "code",
   "execution_count": null,
   "metadata": {
    "id": "985kmRptkfnU"
   },
   "outputs": [],
   "source": [
    "y_i = f([out.beta[0], out.beta[1]],X)"
   ]
  },
  {
   "cell_type": "code",
   "execution_count": null,
   "metadata": {
    "colab": {
     "base_uri": "https://localhost:8080/",
     "height": 451
    },
    "id": "jNxzqeq7kfnV",
    "outputId": "49d91bb1-4071-41d1-d9b8-c394a1dfb462"
   },
   "outputs": [],
   "source": [
    "ax = plt.figure(1)\n",
    "ax = plt.errorbar(X, Y, xerr=erro_x, yerr=erro_y, linestyle='None', marker='.',color='black')\n",
    "ax = plt.plot(X, y_i, label='model',color='red')\n",
    "ax = plt.xlabel('$l (m)$')\n",
    "ax = plt.ylabel('$\\\\tau^2 (s^2)$')\n",
    "ax = plt.grid()\n",
    "ax = plt.savefig('regressão_linear_massa_mola.png',dpi=150,bbox_inches = \"tight\")"
   ]
  },
  {
   "cell_type": "markdown",
   "metadata": {
    "id": "F1LoJLqxkfnV"
   },
   "source": [
    "### Encontrando a Constante Elástica $k$"
   ]
  },
  {
   "cell_type": "code",
   "execution_count": null,
   "metadata": {
    "colab": {
     "base_uri": "https://localhost:8080/"
    },
    "id": "PRf6coApkfnV",
    "outputId": "711099c7-06c6-4cb5-9135-a04202de88bb"
   },
   "outputs": [],
   "source": [
    "k = (4*np.pi**2)/out.beta[0]\n",
    "k"
   ]
  },
  {
   "cell_type": "markdown",
   "metadata": {
    "id": "komxsyXpkfnW"
   },
   "source": [
    "### Encontrando o Erro de $k$"
   ]
  },
  {
   "cell_type": "code",
   "execution_count": null,
   "metadata": {
    "colab": {
     "base_uri": "https://localhost:8080/"
    },
    "id": "UWHevtcPkfnW",
    "outputId": "64e6c19e-bc90-4468-beba-948a77418887"
   },
   "outputs": [],
   "source": [
    "k_erro = (out.sd_beta[0]/out.beta[0])*g\n",
    "k_erro"
   ]
  }
 ],
 "metadata": {
  "colab": {
   "provenance": []
  },
  "kernelspec": {
   "display_name": "Python 3 (ipykernel)",
   "language": "python",
   "name": "python3"
  },
  "language_info": {
   "codemirror_mode": {
    "name": "ipython",
    "version": 3
   },
   "file_extension": ".py",
   "mimetype": "text/x-python",
   "name": "python",
   "nbconvert_exporter": "python",
   "pygments_lexer": "ipython3",
   "version": "3.9.12"
  }
 },
 "nbformat": 4,
 "nbformat_minor": 4
}
